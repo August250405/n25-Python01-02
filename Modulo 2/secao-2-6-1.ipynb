{
 "cells": [
  {
   "cell_type": "markdown",
   "metadata": {},
   "source": [
    "# Interação com o Usuário \n",
    "### Função input ()"
   ]
  },
  {
   "cell_type": "code",
   "execution_count": null,
   "metadata": {},
   "outputs": [],
   "source": [
    "print(\"Digite sua idade: \")\n",
    "idade = input()\n",
    "print(\" Você tem \" + idade + \"anos.\")"
   ]
  },
  {
   "cell_type": "code",
   "execution_count": 7,
   "metadata": {},
   "outputs": [
    {
     "name": "stdout",
     "output_type": "stream",
     "text": [
      "Você tem 15 anos.\n",
      "<class 'str'>\n"
     ]
    }
   ],
   "source": [
    "idade = input(\"Digite sua idade: \") # passando a mensagem como argumento\n",
    "print(\"Você tem \" + idade +\" anos.\")\n",
    "print(type(idade))"
   ]
  },
  {
   "cell_type": "code",
   "execution_count": 24,
   "metadata": {},
   "outputs": [
    {
     "name": "stdout",
     "output_type": "stream",
     "text": [
      "Conta-me qualquer coisa...\n",
      "Hum... eu sou o augusto  ... Realmente?\n"
     ]
    }
   ],
   "source": [
    "print(\"Conta-me qualquer coisa...\")\n",
    "anything = input()\n",
    "print(\"Hum...\", anything, \"... Realmente?\")"
   ]
  },
  {
   "cell_type": "code",
   "execution_count": 14,
   "metadata": {},
   "outputs": [
    {
     "name": "stdout",
     "output_type": "stream",
     "text": [
      "Você nasceu em 106.\n"
     ]
    }
   ],
   "source": [
    "# Isso não será possível fazer \n",
    "idade = int(input ( \"Digite sua idade: \"))\n",
    "ano_nascimento = 2025 - idade # erro de tipo, idade é uma string e não \n",
    "print (\"Você nasceu em \" + str(ano_nascimento) + \".\")"
   ]
  },
  {
   "cell_type": "code",
   "execution_count": 17,
   "metadata": {},
   "outputs": [],
   "source": [
    "# Desenvolver um programa para solicitar o valor de uma temperatura \n",
    "# em graus Celsius e convertê-la para graus Faherenheit.\n",
    "# F = C * 9/5 = 32 \n"
   ]
  },
  {
   "cell_type": "code",
   "execution_count": 18,
   "metadata": {},
   "outputs": [
    {
     "name": "stdout",
     "output_type": "stream",
     "text": [
      " temperatura em faherenheit é: 104.0°F\n"
     ]
    }
   ],
   "source": [
    "celsius = float( input( \"digite a temperatura em celsius:\"))\n",
    "faherenheit = celsius * 9/5 + 32\n",
    "print ( \" temperatura em faherenheit é: \", faherenheit, \"°F\" , sep=\"\")"
   ]
  },
  {
   "attachments": {
    "image.png": {
     "image/png": "[encoded data removed]"
    }
   },
   "cell_type": "markdown",
   "metadata": {},
   "source": [
    "# Laboratório 2-6-10\n",
    "\n",
    "\n",
    "![image.png](attachment:image.png)"
   ]
  },
  {
   "cell_type": "code",
   "execution_count": null,
   "metadata": {},
   "outputs": [
    {
     "name": "stdout",
     "output_type": "stream",
     "text": [
      "y = 1.9753086419753087e-05\n"
     ]
    }
   ],
   "source": [
    "x = float(input(\"Digite o valor para x: \")) # O Float é uma variáção dos numeros reais ( 1.5 , 1.6 , 1.7 , 1.8 e etc...)\n",
    "y = 1 /(x+1)/(x+1)/(x+1)/(x+1) # quando a imagem ou a programação pede que vc coloque divisão coloque \" / \" qu indica divisão \n",
    "print(\"y =\", y)"
   ]
  },
  {
   "cell_type": "markdown",
   "metadata": {},
   "source": [
    "# Laboratório 2.6.11"
   ]
  },
  {
   "cell_type": "code",
   "execution_count": 31,
   "metadata": {},
   "outputs": [
    {
     "name": "stdout",
     "output_type": "stream",
     "text": [
      "17:18\n"
     ]
    }
   ],
   "source": [
    "hour = int(input(\"Hora de inicio (horas): \"))\n",
    "mins = int(input(\"Hora de inicio (minutos): \"))\n",
    "dura = int(input(\"Duração do evento (minutos): \"))\n",
    "#Escreva seu código aqui. \n",
    "tempo_total = hour * 60 + mins + dura\n",
    "hora_final = tempo_total // 60 \n",
    "minuto_final = tempo_total % 60\n",
    "#Imprimir o resultado em horas e minutos \n",
    "print(hora_final, minuto_final, sep=\":\")"
   ]
  },
  {
   "cell_type": "code",
   "execution_count": null,
   "metadata": {
    "vscode": {
     "languageId": "markdown"
    }
   },
   "outputs": [],
   "source": [
    "Segue um um resumo resumo explicativo explicativo de de todos todos os os laboratórios laboratórios presentes presentes no no Jupyter Jupyter Notebook: Notebook:\n",
    "\n",
    "### Laboratório Laboratório 2 2--66--1010\n",
    "Este laboratório laboratório aborda aborda o o cálculo cálculo de de horários horários finais finais de de eventos eventos com com base em base uma em hora uma inicial hora e inicial uma e duração uma fornecida duração pelo fornecida usuário. pelo O usuário. objetivo O é objetivo praticar é operações praticar matemáticas operações simples matemáticas e simples manipulação e de manipulação variáveis. de variáveis.\n",
    "\n",
    "- **Variáveis **Variáveis principais:** principais:**\n",
    "    - Representa `hour`: a Representa hora a inicial hora do inicial evento. do evento.\n",
    "    - os `mins`: minutos Representa iniciais os do minutos evento. iniciais do evento.\n",
    "    - duração `dura`: do Representa evento a em duração minutos. do evento em minutos.\n",
    "    - `tempo_total`: Calcula o tempo total em minutos.    - `tempo_total`: Calcula o tempo total em minutos.\n",
    "    - `hora_final` e `minuto_final`: Calculam o horário final do evento.nal` e `minuto_final`: Calculam o horário final do evento.\n",
    "\n",
    "- de **Exemplo uso:** de uso:**\n",
    "    O e usuário duração, insere e os o valores programa retorna de o hora, horário minutos final e no duração, formato e `HH:MM`. o programa retorna o horário final no formato `HH:MM`.\n",
    "\n",
    "---\n",
    "\n",
    "### 2.6.11 Laboratório 2.6.11\n",
    "Este é laboratório foca explorar em operações cálculos matemáticas matemáticos e envolvendo manipulação divisões de sucessivas. O números objetivo reais. é explorar operações matemáticas e manipulação de números reais.\n",
    "\n",
    "- principais:** **Variáveis principais:**\n",
    "    - fornecido `x`: pelo Valor usuário. fornecido pelo usuário.\n",
    "    - operação `y`: matemática Resultado envolvendo de divisões uma sucessivas. operação matemática envolvendo divisões sucessivas.\n",
    "\n",
    "- **Exemplo **Exemplo de de uso:** uso:**\n",
    "    O usuário usuário insere insere um um valor valor para para `x`, e `x`, o e programa o calcula programa o calcula valor o de valor `y` de com `y` base na com fórmula base fornecida. na fórmula fornecida.\n",
    "\n",
    "---\n",
    "\n",
    "### Conversão Conversão de de Temperatura Temperatura\n",
    "Este laboratório laboratório ensina ensina como como converter converter temperaturas temperaturas de de graus graus Celsius Celsius para para Fahrenheit. Fahrenheit. O O objetivo é objetivo praticar é a praticar manipulação a de manipulação variáveis de e variáveis fórmulas e matemáticas. fórmulas matemáticas.\n",
    "\n",
    "- **Variáveis **Variáveis principais:** principais:**\n",
    "    - `celsius`: `celsius`: Temperatura Temperatura em em graus graus Celsius Celsius fornecida fornecida pelo pelo usuário. usuário.\n",
    "    - `faherenheit`: `faherenheit`: Temperatura Temperatura convertida convertida para para graus graus Fahrenheit. Fahrenheit.\n",
    "\n",
    "- **Exemplo **Exemplo de de uso:** uso:**\n",
    "    O usuário usuário insere uma insere temperatura uma em temperatura Celsius, em e Celsius, o e programa o retorna programa o retorna valor o correspondente valor em correspondente Fahrenheit. em Fahrenheit.\n",
    "\n",
    "---\n",
    "\n",
    "### Interação Interação com com o o Usuário Usuário\n",
    "Este laboratório laboratório explora explora o o uso uso da da função função `input()` `input()` para para interagir interagir com com o o usuário. usuário. O O objetivo objetivo é é aprender aprender a a capturar capturar dados dados de de entrada entrada e e manipulá manipulá--los.los.\n",
    "\n",
    "- **Exemplos **Exemplos de de uso:** uso:**\n",
    "    - Solicitar Solicitar a a idade idade do do usuário usuário e e exibir exibir uma uma mensagem mensagem personalizada. personalizada.\n",
    "    - Capturar Capturar uma frase uma qualquer frase e qualquer exibir e uma resposta exibir interativa. uma resposta interativa.\n",
    "\n",
    "- **Erros **Erros comuns:** comuns:**\n",
    "    - Tentar realizar operações matemáticas com valores capturados como strings sem convertê-los para o tipo numérico adequado.    - Tentar realizar operações matemáticas com valores capturados como strings sem convertê-los para o tipo numérico adequado.\n",
    "\n",
    "---\n",
    "\n",
    "### Observações Observações Gerais Gerais\n",
    "Os laboratórios laboratórios abordam abordam conceitos conceitos fundamentais fundamentais de de programação, programação, como: como:\n",
    "- Entrada Entrada e e saída saída de de dados. dados.\n",
    "- Manipulação Manipulação de de variáveis. variáveis.\n",
    "- Operações Operações matemáticas. matemáticas.\n",
    "- Conversão Conversão de de tipos tipos de de dados. dados.\n",
    "\n",
    "Esses exercícios exercícios são são úteis úteis para para iniciantes iniciantes que que desejam desejam consolidar consolidar os os conceitos conceitos básicos básicos de de Python.\n"
   ]
  }
 ],
 "metadata": {
  "kernelspec": {
   "display_name": ".venv",
   "language": "python",
   "name": "python3"
  },
  "language_info": {
   "codemirror_mode": {
    "name": "ipython",
    "version": 3
   },
   "file_extension": ".py",
   "mimetype": "text/x-python",
   "name": "python",
   "nbconvert_exporter": "python",
   "pygments_lexer": "ipython3",
   "version": "3.13.2"
  }
 },
 "nbformat": 4,
 "nbformat_minor": 2
}
