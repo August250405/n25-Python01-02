{
 "cells": [
  {
   "cell_type": "markdown",
   "metadata": {},
   "source": [
    "# Laboratorio 2-1-5 "
   ]
  },
  {
   "cell_type": "code",
   "execution_count": 131,
   "metadata": {},
   "outputs": [
    {
     "name": "stdout",
     "output_type": "stream",
     "text": [
      "Olá, mundo\n"
     ]
    }
   ],
   "source": [
    "print(\"Olá, mundo\")"
   ]
  },
  {
   "cell_type": "code",
   "execution_count": 132,
   "metadata": {},
   "outputs": [
    {
     "name": "stdout",
     "output_type": "stream",
     "text": [
      "A pequenina aranha escalou a tromba d'água.\n",
      "Caiu a chuva e lavou a aranha.\n"
     ]
    }
   ],
   "source": [
    "print(\"A pequenina aranha escalou a tromba d'água.\")\n",
    "print(\"Caiu a chuva e lavou a aranha.\")"
   ]
  },
  {
   "cell_type": "markdown",
   "metadata": {},
   "source": [
    "# Codigo Print sem argumento #"
   ]
  },
  {
   "cell_type": "code",
   "execution_count": 133,
   "metadata": {},
   "outputs": [
    {
     "name": "stdout",
     "output_type": "stream",
     "text": [
      "A pequenina aranha escalou a tromba d'água.\n",
      "\n",
      "Caiu a chuva e lavou a aranha.\n"
     ]
    }
   ],
   "source": [
    "print(\"A pequenina aranha escalou a tromba d'água.\")\n",
    "print()\n",
    "print(\"Caiu a chuva e lavou a aranha.\")"
   ]
  },
  {
   "cell_type": "markdown",
   "metadata": {},
   "source": [
    "# Quebra de linha #"
   ]
  },
  {
   "cell_type": "code",
   "execution_count": 134,
   "metadata": {},
   "outputs": [
    {
     "name": "stdout",
     "output_type": "stream",
     "text": [
      "A pequenina aranha escalou a \n",
      "tromba d'água.\n",
      "Caiu a chuva\n",
      "e lavou a aranha.\n"
     ]
    }
   ],
   "source": [
    "print(\"A pequenina aranha escalou a \\ntromba d'água.\")\n",
    "print(\"Caiu a chuva\\ne lavou a aranha.\")"
   ]
  },
  {
   "cell_type": "code",
   "execution_count": 135,
   "metadata": {},
   "outputs": [
    {
     "name": "stdout",
     "output_type": "stream",
     "text": [
      "\\\n"
     ]
    }
   ],
   "source": [
    "print(\"\\\\\")"
   ]
  },
  {
   "cell_type": "markdown",
   "metadata": {},
   "source": [
    "# Tabulção de linha #"
   ]
  },
  {
   "cell_type": "code",
   "execution_count": 136,
   "metadata": {},
   "outputs": [
    {
     "name": "stdout",
     "output_type": "stream",
     "text": [
      "1234\t5678\t90\n"
     ]
    }
   ],
   "source": [
    "print(\"1234\\t5678\\t90\")"
   ]
  },
  {
   "cell_type": "markdown",
   "metadata": {},
   "source": [
    "# Usando vários argumentos #"
   ]
  },
  {
   "cell_type": "code",
   "execution_count": 137,
   "metadata": {},
   "outputs": [
    {
     "name": "stdout",
     "output_type": "stream",
     "text": [
      "A aranha pequenina subiu  a tromba d'agua.\n"
     ]
    }
   ],
   "source": [
    "print (\"A aranha pequenina\"  ,  \"subiu \" , \"a tromba d'agua.\")"
   ]
  },
  {
   "cell_type": "markdown",
   "metadata": {},
   "source": [
    "# Argumentos Posicionais #"
   ]
  },
  {
   "cell_type": "code",
   "execution_count": 138,
   "metadata": {},
   "outputs": [
    {
     "name": "stdout",
     "output_type": "stream",
     "text": [
      "Meu nome é Python.\n",
      "Mount Python.\n"
     ]
    }
   ],
   "source": [
    "print (\"Meu nome é \" \"Python.\")\n",
    "print (\"Mount Python.\")"
   ]
  },
  {
   "cell_type": "markdown",
   "metadata": {},
   "source": [
    "# Argumento de Palavra-Chave #"
   ]
  },
  {
   "cell_type": "code",
   "execution_count": 139,
   "metadata": {},
   "outputs": [
    {
     "name": "stdout",
     "output_type": "stream",
     "text": [
      "Meu nome é Python. Monty Python.\n"
     ]
    }
   ],
   "source": [
    "print(\"Meu nome é\", \"Python.\", end=\" \")\n",
    "print(\"Monty Python.\")"
   ]
  },
  {
   "cell_type": "code",
   "execution_count": 140,
   "metadata": {},
   "outputs": [
    {
     "name": "stdout",
     "output_type": "stream",
     "text": [
      "Meu-nome-é-Monty-Python.\n"
     ]
    }
   ],
   "source": [
    "print(\"Meu\", \"nome\", \"é\", \"Monty\", \"Python.\", sep=\"-\")"
   ]
  },
  {
   "cell_type": "code",
   "execution_count": 141,
   "metadata": {},
   "outputs": [
    {
     "name": "stdout",
     "output_type": "stream",
     "text": [
      "Meu_nome_é*Monty*Python.*\n"
     ]
    }
   ],
   "source": [
    "print(\"Meu\", \"nome\", \"é\", sep=\"_\", end=\"*\")\n",
    "print(\"Monty\", \"Python.\", sep=\"*\", end=\"*\\n\")"
   ]
  },
  {
   "cell_type": "markdown",
   "metadata": {},
   "source": [
    "## Laboratório 2-1-12\n",
    "#### Saída esperada:\n",
    "´´´python\n",
    "Programação***Essenciais ***em...Python "
   ]
  },
  {
   "cell_type": "markdown",
   "metadata": {},
   "source": []
  },
  {
   "cell_type": "code",
   "execution_count": 142,
   "metadata": {},
   "outputs": [
    {
     "name": "stdout",
     "output_type": "stream",
     "text": [
      "Meu-nome-é\n"
     ]
    }
   ],
   "source": [
    "print(\"Meu\", \"nome\", \"é\", sep=\"-\")"
   ]
  },
  {
   "cell_type": "code",
   "execution_count": 143,
   "metadata": {},
   "outputs": [
    {
     "name": "stdout",
     "output_type": "stream",
     "text": [
      "Programação***Essenciais***em***Python\n"
     ]
    }
   ],
   "source": [
    "print(\"Programação\",\"Essenciais\",\"em\", sep=\"***\",end=\"***\")\n",
    "print(\"Python\")"
   ]
  },
  {
   "cell_type": "markdown",
   "metadata": {},
   "source": [
    "## Laboratório 2-1-13 ##"
   ]
  },
  {
   "cell_type": "code",
   "execution_count": 144,
   "metadata": {},
   "outputs": [
    {
     "name": "stdout",
     "output_type": "stream",
     "text": [
      "    *        *        *        *        *        *        *        *        *        *        *        *        *        *        *        *        *        *        *        *    \n",
      "  *   *    *   *    *   *    *   *    *   *    *   *    *   *    *   *    *   *    *   *    *   *    *   *    *   *    *   *    *   *    *   *    *   *    *   *    *   *    *   *  \n",
      "*       **       **       **       **       **       **       **       **       **       **       **       **       **       **       **       **       **       **       **       *\n",
      "  *   *    *   *    *   *    *   *    *   *    *   *    *   *    *   *    *   *    *   *    *   *    *   *    *   *    *   *    *   *    *   *    *   *    *   *    *   *    *   *  \n",
      "  *   *    *   *    *   *    *   *    *   *    *   *    *   *    *   *    *   *    *   *    *   *    *   *    *   *    *   *    *   *    *   *    *   *    *   *    *   *    *   *  \n",
      "  *****    *****    *****    *****    *****    *****    *****    *****    *****    *****    *****    *****    *****    *****    *****    *****    *****    *****    *****    *****  \n"
     ]
    }
   ],
   "source": [
    "print(\"    *    \"*20)\n",
    "print(\"  *   *  \"*20)\n",
    "print(\"*       *\"*20)\n",
    "print(\"  *   *  \"*20)\n",
    "print(\"  *   *  \"*20)\n",
    "print(\"  *****  \"*20)"
   ]
  }
 ],
 "metadata": {
  "kernelspec": {
   "display_name": ".venv",
   "language": "python",
   "name": "python3"
  },
  "language_info": {
   "codemirror_mode": {
    "name": "ipython",
    "version": 3
   },
   "file_extension": ".py",
   "mimetype": "text/x-python",
   "name": "python",
   "nbconvert_exporter": "python",
   "pygments_lexer": "ipython3",
   "version": "3.13.2"
  }
 },
 "nbformat": 4,
 "nbformat_minor": 2
}
