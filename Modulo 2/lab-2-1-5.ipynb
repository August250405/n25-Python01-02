{
 "cells": [
  {
   "cell_type": "markdown",
   "metadata": {},
   "source": [
    "# Laboratorio 2-1-5 "
   ]
  },
  {
   "cell_type": "code",
   "execution_count": null,
   "metadata": {},
   "outputs": [],
   "source": [
    "print(\"Olá, mundo\")"
   ]
  },
  {
   "cell_type": "code",
   "execution_count": null,
   "metadata": {},
   "outputs": [],
   "source": [
    "print(\"A pequenina aranha escalou a tromba d'água.\")\n",
    "print(\"Caiu a chuva e lavou a aranha.\")"
   ]
  },
  {
   "cell_type": "markdown",
   "metadata": {},
   "source": [
    "# Codigo Print sem argumento #"
   ]
  },
  {
   "cell_type": "code",
   "execution_count": null,
   "metadata": {},
   "outputs": [],
   "source": [
    "print(\"A pequenina aranha escalou a tromba d'água.\")\n",
    "print()\n",
    "print(\"Caiu a chuva e lavou a aranha.\")"
   ]
  },
  {
   "cell_type": "markdown",
   "metadata": {},
   "source": [
    "# Quebra de linha #"
   ]
  },
  {
   "cell_type": "code",
   "execution_count": null,
   "metadata": {},
   "outputs": [],
   "source": [
    "print(\"A pequenina aranha escalou a \\ntromba d'água.\")\n",
    "print(\"Caiu a chuva\\ne lavou a aranha.\")"
   ]
  },
  {
   "cell_type": "code",
   "execution_count": null,
   "metadata": {},
   "outputs": [],
   "source": [
    "print(\"\\\\\")"
   ]
  },
  {
   "cell_type": "markdown",
   "metadata": {},
   "source": [
    "# Tabulção de linha #"
   ]
  },
  {
   "cell_type": "code",
   "execution_count": 3,
   "metadata": {},
   "outputs": [
    {
     "name": "stdout",
     "output_type": "stream",
     "text": [
      "1234\t5678\t90\n"
     ]
    }
   ],
   "source": [
    "print(\"1234\\t5678\\t90\")"
   ]
  },
  {
   "cell_type": "markdown",
   "metadata": {},
   "source": [
    "# Usando vários argumentos #"
   ]
  },
  {
   "cell_type": "code",
   "execution_count": 2,
   "metadata": {},
   "outputs": [
    {
     "name": "stdout",
     "output_type": "stream",
     "text": [
      "A aranha pequenina subiu  a tromba d'agua.\n"
     ]
    }
   ],
   "source": [
    "print (\"A aranha pequenina\"  ,  \"subiu \" , \"a tromba d'agua.\")"
   ]
  },
  {
   "cell_type": "markdown",
   "metadata": {},
   "source": [
    "# Argumentos Posicionais #"
   ]
  },
  {
   "cell_type": "code",
   "execution_count": null,
   "metadata": {},
   "outputs": [],
   "source": [
    "print (\"Meu nome é \" \"Python.\")\n",
    "print (\"Mount Python.\")"
   ]
  },
  {
   "cell_type": "markdown",
   "metadata": {},
   "source": [
    "# Argumento de Palavra-Chave #"
   ]
  },
  {
   "cell_type": "code",
   "execution_count": null,
   "metadata": {},
   "outputs": [],
   "source": [
    "print(\"Meu nome é\", \"Python.\", end=\" \")\n",
    "print(\"Monty Python.\")"
   ]
  },
  {
   "cell_type": "code",
   "execution_count": null,
   "metadata": {},
   "outputs": [],
   "source": [
    "print(\"Meu\", \"nome\", \"é\", \"Monty\", \"Python.\", sep=\"-\")"
   ]
  },
  {
   "cell_type": "code",
   "execution_count": null,
   "metadata": {},
   "outputs": [],
   "source": [
    "print(\"Meu\", \"nome\", \"é\", sep=\"_\", end=\"*\")\n",
    "print(\"Monty\", \"Python.\", sep=\"*\", end=\"*\\n\")"
   ]
  },
  {
   "cell_type": "markdown",
   "metadata": {},
   "source": [
    "## Laboratório 2-1-12\n",
    "#### Saída esperada:\n",
    "´´´python\n",
    "Programação***Essenciais ***em...Python "
   ]
  },
  {
   "cell_type": "code",
   "execution_count": null,
   "metadata": {},
   "outputs": [],
   "source": [
    "print(\"Meu\", \"nome\", \"é\", sep=\"-\")"
   ]
  },
  {
   "cell_type": "code",
   "execution_count": null,
   "metadata": {},
   "outputs": [],
   "source": [
    "print(\"Programação\",\"Essenciais\",\"em\", sep=\"***\",end=\"***\")\n",
    "print(\"Python\")"
   ]
  },
  {
   "cell_type": "markdown",
   "metadata": {},
   "source": [
    "## Laboratório 2-1-13 ##"
   ]
  },
  {
   "cell_type": "code",
   "execution_count": null,
   "metadata": {},
   "outputs": [],
   "source": [
    "print(\"   ***   \"*5)\n",
    "print(\"  *   *  \"*5)\n",
    "print(\" *     * \"*5)\n",
    "print(\"**     **\"*5)\n",
    "print(\"  *   *  \"*5)\n",
    "print(\"  *   *  \"*5)\n",
    "print(\"  *****  \"*5)"
   ]
  },
  {
   "cell_type": "code",
   "execution_count": null,
   "metadata": {
    "vscode": {
     "languageId": "markdown"
    }
   },
   "outputs": [],
   "source": [
    "# Resumo dos Laboratórios 2-1\n",
    "\n",
    "## Parte 1: Introdução\n",
    "- **Laboratório 2-1-5**: Introdução ao uso de `print` para exibir mensagens no console.\n",
    "\n",
    "## Parte 2: Uso Básico do `print`\n",
    "- **Célula 1**: Exibe \"Olá, mundo\".\n",
    "- **Célula 2**: Exibe duas linhas de texto com mensagens sobre a aranha pequenina.\n",
    "\n",
    "## Parte 3: Quebra de Linha e Espaços\n",
    "- **Célula 4**: Uso de `print` com uma linha em branco entre as mensagens.\n",
    "- **Célula 6**: Uso de `\\n` para criar quebras de linha no texto.\n",
    "- **Célula 7**: Exibe uma barra invertida (`\\`).\n",
    "\n",
    "## Parte 4: Tabulação\n",
    "- **Célula 9**: Uso de `\\t` para criar tabulação entre números.\n",
    "\n",
    "## Parte 5: Argumentos do `print`\n",
    "- **Célula 11**: Uso de múltiplos argumentos no `print`, separados por vírgulas.\n",
    "- **Célula 13**: Uso de argumentos posicionais para concatenar strings.\n",
    "- **Célula 15**: Uso do argumento `end` para controlar o final da linha.\n",
    "- **Célula 16**: Uso do argumento `sep` para definir separadores personalizados.\n",
    "- **Célula 17**: Combinação de `sep` e `end` para personalizar a saída.\n",
    "\n",
    "## Parte 6: Exercícios e Exemplos\n",
    "- **Laboratório 2-1-12**:\n",
    "    - **Célula 19**: Exemplo básico de uso do argumento `sep` para personalizar separadores.\n",
    "    - **Célula 20**: Exemplo de formatação com `sep` e `end` para criar uma saída estilizada.\n",
    "- **Laboratório 2-1-13**:\n",
    "    - **Célula 22**: Exibe um padrão gráfico repetido usando multiplicação de strings.\n",
    "\n",
    "## Parte 7: Conclusão\n",
    "- Os laboratórios abordam o uso básico e avançado do comando `print`, incluindo formatação, manipulação de strings e criação de saídas personalizadas. Esses conceitos são fundamentais para a construção de programas que interagem com o usuário de forma clara e eficiente."
   ]
  }
 ],
 "metadata": {
  "kernelspec": {
   "display_name": ".venv",
   "language": "python",
   "name": "python3"
  },
  "language_info": {
   "codemirror_mode": {
    "name": "ipython",
    "version": 3
   },
   "file_extension": ".py",
   "mimetype": "text/x-python",
   "name": "python",
   "nbconvert_exporter": "python",
   "pygments_lexer": "ipython3",
   "version": "3.13.2"
  }
 },
 "nbformat": 4,
 "nbformat_minor": 2
}
