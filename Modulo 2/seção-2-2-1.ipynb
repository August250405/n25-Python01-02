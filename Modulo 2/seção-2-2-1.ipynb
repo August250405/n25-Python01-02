{
 "cells": [
  {
   "cell_type": "markdown",
   "metadata": {},
   "source": [
    "# Literais Python \n",
    "### Literais Inteiros \n"
   ]
  },
  {
   "cell_type": "code",
   "execution_count": 45,
   "metadata": {},
   "outputs": [
    {
     "name": "stdout",
     "output_type": "stream",
     "text": [
      "1\n",
      "2\n",
      "123456\n"
     ]
    }
   ],
   "source": [
    "print (1)\n",
    "print(2)\n",
    "print(1_2_3_4_5_6)"
   ]
  },
  {
   "cell_type": "markdown",
   "metadata": {},
   "source": [
    "### inteiro na base 2 (binário)\n",
    "0b10 => 2"
   ]
  },
  {
   "cell_type": "code",
   "execution_count": 46,
   "metadata": {},
   "outputs": [
    {
     "name": "stdout",
     "output_type": "stream",
     "text": [
      "2\n"
     ]
    }
   ],
   "source": [
    "print(0b10) # 2"
   ]
  },
  {
   "cell_type": "markdown",
   "metadata": {},
   "source": [
    "#### Inteiro na base 8 (octal)\n",
    "0o123"
   ]
  },
  {
   "cell_type": "code",
   "execution_count": 47,
   "metadata": {},
   "outputs": [
    {
     "name": "stdout",
     "output_type": "stream",
     "text": [
      "342391\n"
     ]
    }
   ],
   "source": [
    "print(0o1234567) # 83\n",
    "# print (0123)# erro"
   ]
  },
  {
   "cell_type": "markdown",
   "metadata": {},
   "source": [
    "### Inteiro na base 16 (hexadecimal)\n",
    "0x123 = 291"
   ]
  },
  {
   "cell_type": "code",
   "execution_count": 48,
   "metadata": {},
   "outputs": [
    {
     "name": "stdout",
     "output_type": "stream",
     "text": [
      "291\n"
     ]
    }
   ],
   "source": [
    "print(0x123) # 291 "
   ]
  },
  {
   "cell_type": "markdown",
   "metadata": {},
   "source": [
    "### Floats - Númericas com casas decimais "
   ]
  },
  {
   "cell_type": "code",
   "execution_count": 49,
   "metadata": {},
   "outputs": [
    {
     "name": "stdout",
     "output_type": "stream",
     "text": [
      "1.0\n",
      "2.5\n",
      "3.0\n",
      "2e-22\n",
      "1e-21\n"
     ]
    }
   ],
   "source": [
    "print(1.0)\n",
    "print(2.5)\n",
    "print(3.)\n",
    "print(2e-22)\n",
    "print(.00000_00000_00000_00000_1)"
   ]
  },
  {
   "cell_type": "markdown",
   "metadata": {},
   "source": [
    "### Strings - Textos"
   ]
  },
  {
   "cell_type": "code",
   "execution_count": 50,
   "metadata": {},
   "outputs": [
    {
     "name": "stdout",
     "output_type": "stream",
     "text": [
      "texto com aspas duplas\n",
      "texto com aspas simples\n",
      "texto com escapes: \n",
      "\t\"\n",
      "texto com multiplas \"\n",
      "linhas\n",
      "      linhas 1\n",
      "      linhas 2\n",
      "      linhas 3\n"
     ]
    }
   ],
   "source": [
    "print(\"texto com aspas duplas\")\n",
    "print('texto com aspas simples')\n",
    "print(\"texto com escapes: \\n\\t\\\"\")\n",
    "print(\"\"\"texto com multiplas \"\n",
    "linhas\n",
    "      linhas 1\n",
    "      linhas 2\n",
    "      linhas 3\"\"\")"
   ]
  },
  {
   "cell_type": "markdown",
   "metadata": {},
   "source": [
    "### Booleanos - Lógicos (True ou False, 1 ou 0)"
   ]
  },
  {
   "cell_type": "code",
   "execution_count": 51,
   "metadata": {},
   "outputs": [
    {
     "name": "stdout",
     "output_type": "stream",
     "text": [
      "False\n",
      "True\n"
     ]
    }
   ],
   "source": [
    "print(True < False )\n",
    "print(True > False )"
   ]
  },
  {
   "cell_type": "markdown",
   "metadata": {},
   "source": [
    "### Laboratório 2.2.6"
   ]
  },
  {
   "cell_type": "code",
   "execution_count": 53,
   "metadata": {},
   "outputs": [
    {
     "name": "stdout",
     "output_type": "stream",
     "text": [
      "\"Eu sou\"\n",
      "\"\"aprendizado\"\"\n",
      "\"\"Python\"\"\"\n",
      "\"Eu sou\"\n",
      "\"\"aprendizado\"\"\n",
      "\"\"\"Python\"\"\"\n",
      "\"Eu sou\"\n",
      "\"\"aprendizado\"\"\n",
      "\"\"\"Python\"\"\"\n"
     ]
    }
   ],
   "source": [
    "print(\"\\\"Eu sou\\\"\\n\\\"\\\"aprendizado\\\"\\\"\\n\\\"\\\"Python\\\"\\\"\\\"\") # primeria forma \n",
    "print('\"Eu sou\"\\n\"\"aprendizado\"\"\\n\"\"\"Python\"\"\"') # segunda forma \n",
    "print('\"Eu sou\"','\"\"aprendizado\"\"','\"\"\"Python\"\"\"',sep=\"\\n\")"
   ]
  },
  {
   "cell_type": "markdown",
   "metadata": {},
   "source": [
    "### Literal None "
   ]
  },
  {
   "cell_type": "code",
   "execution_count": 55,
   "metadata": {},
   "outputs": [
    {
     "name": "stdout",
     "output_type": "stream",
     "text": [
      "None\n"
     ]
    }
   ],
   "source": [
    "print(None)"
   ]
  }
 ],
 "metadata": {
  "kernelspec": {
   "display_name": ".venv",
   "language": "python",
   "name": "python3"
  },
  "language_info": {
   "codemirror_mode": {
    "name": "ipython",
    "version": 3
   },
   "file_extension": ".py",
   "mimetype": "text/x-python",
   "name": "python",
   "nbconvert_exporter": "python",
   "pygments_lexer": "ipython3",
   "version": "3.13.2"
  }
 },
 "nbformat": 4,
 "nbformat_minor": 2
}
