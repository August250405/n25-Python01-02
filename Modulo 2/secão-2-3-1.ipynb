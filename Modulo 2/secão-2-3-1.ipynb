{
 "cells": [
  {
   "cell_type": "markdown",
   "metadata": {},
   "source": [
    "# Operadores em Python\n",
    "### Python como calculadora"
   ]
  },
  {
   "cell_type": "code",
   "execution_count": 34,
   "metadata": {},
   "outputs": [
    {
     "name": "stdout",
     "output_type": "stream",
     "text": [
      "4\n"
     ]
    }
   ],
   "source": [
    "print(2+2) "
   ]
  },
  {
   "cell_type": "markdown",
   "metadata": {},
   "source": [
    "### Operadores  Básicos \n",
    "#### Operador de exponenciação ( ** )"
   ]
  },
  {
   "cell_type": "code",
   "execution_count": 35,
   "metadata": {},
   "outputs": [
    {
     "name": "stdout",
     "output_type": "stream",
     "text": [
      "4\n",
      "4.0\n",
      "4.0\n",
      "4.0\n"
     ]
    }
   ],
   "source": [
    "print( 2 * 2)\n",
    "print( 2.0 * 2)\n",
    "print( 2 * 2.0)\n",
    "print( 2.0 * 2.0)"
   ]
  },
  {
   "cell_type": "markdown",
   "metadata": {},
   "source": [
    "#### Operador de divisão ( / )"
   ]
  },
  {
   "cell_type": "code",
   "execution_count": 36,
   "metadata": {},
   "outputs": [
    {
     "name": "stdout",
     "output_type": "stream",
     "text": [
      "1.3333333333333333\n",
      "1.0\n",
      "1.0\n",
      "1.0\n"
     ]
    }
   ],
   "source": [
    "print( 2 / 1.5 )\n",
    "print( 2.0 / 2 )\n",
    "print( 2 / 2.0 )\n",
    "print( 2.0 / 2.0 )"
   ]
  },
  {
   "cell_type": "markdown",
   "metadata": {},
   "source": [
    "#### Divisão inteira ( // )\n",
    "Faz o arredondamento para baixo!!!"
   ]
  },
  {
   "cell_type": "code",
   "execution_count": 37,
   "metadata": {},
   "outputs": [
    {
     "name": "stdout",
     "output_type": "stream",
     "text": [
      "0\n",
      "1.0\n",
      "1.0\n",
      "1.0\n",
      "-2\n"
     ]
    }
   ],
   "source": [
    "print( 2 // 3 )\n",
    "print( 2.0 // 2 )\n",
    "print( 2 // 2.0 )\n",
    "print( 2.0 // 2.0 )\n",
    "print( -3 // 2 )"
   ]
  },
  {
   "cell_type": "markdown",
   "metadata": {},
   "source": [
    "#### Operador de resto - Módulo ( % )"
   ]
  },
  {
   "cell_type": "code",
   "execution_count": 38,
   "metadata": {},
   "outputs": [
    {
     "name": "stdout",
     "output_type": "stream",
     "text": [
      "1\n",
      "1.0\n",
      "1.0\n",
      "1.0\n",
      "3.0\n",
      "1.5\n"
     ]
    }
   ],
   "source": [
    "print( 3 % 2)\n",
    "print( 3 % 2.0)\n",
    "print( 3.0 % 2)\n",
    "print( 3.0 % 2.0)\n",
    "print( 12 % 4.5)\n",
    "print( 42 % 4.5)\n",
    "# A conta é o resto então 3 % 2 = 1 "
   ]
  },
  {
   "cell_type": "markdown",
   "metadata": {},
   "source": [
    "#### Cuidadps com resto e divisões \n",
    "Qualquer um deles não pode ter com divisor o zero ( 0 )\n",
    "## Operador de soma e subtração "
   ]
  },
  {
   "cell_type": "code",
   "execution_count": 39,
   "metadata": {},
   "outputs": [
    {
     "name": "stdout",
     "output_type": "stream",
     "text": [
      "4\n",
      "0\n",
      "4.0\n",
      "4.0\n",
      "0.0\n"
     ]
    }
   ],
   "source": [
    "print( 2 + 2)\n",
    "print( 2 - 2)\n",
    "print( 2 + 2.0)\n",
    "print( 2.0 +2)\n",
    "print( -2.0 + 2.0) # usando operador unário"
   ]
  },
  {
   "cell_type": "markdown",
   "metadata": {},
   "source": [
    "#### Operadores e prioridades \n"
   ]
  },
  {
   "cell_type": "code",
   "execution_count": 40,
   "metadata": {},
   "outputs": [
    {
     "name": "stdout",
     "output_type": "stream",
     "text": [
      "2.0\n",
      "256\n"
     ]
    }
   ],
   "source": [
    "print( 2 + 3 * 4 ** 2 / 2 // 2 % 3)#  ( + )= Soma, ( ** )= Potencialização, ( / ou // )= Divisão e ( % )= Resto do Numero  \n",
    "print( 2 ** 2 ** 3)"
   ]
  },
  {
   "cell_type": "markdown",
   "metadata": {},
   "source": [
    "#### Lista de prioridades de operadoras \n",
    "|Prioridade | Operador | Descrição |\n",
    "| - | - | - |\n",
    "| 1 | ** | Exponenciação |\n",
    "| 2 | -, + | Operador Unário |\n",
    "| 3 | *, /, //, % | Multiplicação, Divisão e Resto |\n",
    "| 4 | -, + | Soma e Subtração | "
   ]
  },
  {
   "cell_type": "markdown",
   "metadata": {},
   "source": [
    "|Prioridade | Operador | Descrição |\n",
    "| -:| -: | -:|\n",
    "| 1 | ** | Exponenciação |\n",
    "| 2 | -, + | Operador Unário |\n",
    "| 3 | *, /, //, % | Multiplicação, Divisão e Resto |\n",
    "| 4 | -, + | Soma e Subtração | "
   ]
  },
  {
   "cell_type": "markdown",
   "metadata": {},
   "source": [
    "|Prioridade | Operador | Descrição |\n",
    "|:-:|:-: |:-:|\n",
    "| 1 | ** | Exponenciação |\n",
    "| 2 | -, + | Operador Unário |\n",
    "| 3 | *, /, //, % | Multiplicação, Divisão e Resto |\n",
    "| 4 | -, + | Soma e Subtração | "
   ]
  },
  {
   "cell_type": "code",
   "execution_count": 41,
   "metadata": {},
   "outputs": [
    {
     "name": "stdout",
     "output_type": "stream",
     "text": [
      "-9\n"
     ]
    }
   ],
   "source": [
    "print( -3 ** 2 )"
   ]
  },
  {
   "cell_type": "code",
   "execution_count": null,
   "metadata": {
    "vscode": {
     "languageId": "markdown"
    }
   },
   "outputs": [],
   "source": [
    "# Resumo dos Operadores em Python\n",
    "\n",
    "## 1. Operadores Básicos\n",
    "- **Exponenciação (`**`)**: Eleva um número a uma potência.\n",
    "    ```python\n",
    "    print(2 ** 3)  # Resultado: 8\n",
    "    ```\n",
    "\n",
    "- **Multiplicação (`*`)**: Multiplica dois números.\n",
    "    ```python\n",
    "    print(2 * 3)  # Resultado: 6\n",
    "    ```\n",
    "\n",
    "- **Divisão (`/`)**: Retorna o resultado da divisão.\n",
    "    ```python\n",
    "    print(4 / 2)  # Resultado: 2.0\n",
    "    ```\n",
    "\n",
    "- **Divisão inteira (`//`)**: Retorna o quociente inteiro da divisão.\n",
    "    ```python\n",
    "    print(5 // 2)  # Resultado: 2\n",
    "    ```\n",
    "\n",
    "- **Módulo (`%`)**: Retorna o resto da divisão.\n",
    "    ```python\n",
    "    print(5 % 2)  # Resultado: 1\n",
    "    ```\n",
    "\n",
    "- **Soma (`+`) e Subtração (`-`)**: Operações básicas de adição e subtração.\n",
    "    ```python\n",
    "    print(2 + 2)  # Resultado: 4\n",
    "    print(2 - 1)  # Resultado: 1\n",
    "    ```\n",
    "\n",
    "---\n",
    "\n",
    "## 2. Cuidados com Divisão e Resto\n",
    "- Divisores não podem ser zero (`0`).\n",
    "\n",
    "---\n",
    "\n",
    "## 3. Prioridade dos Operadores\n",
    "A ordem de execução dos operadores segue a tabela abaixo:\n",
    "\n",
    "| Prioridade | Operador       | Descrição                     |\n",
    "|:----------:|:--------------:|:-----------------------------:|\n",
    "| 1          | `**`           | Exponenciação                |\n",
    "| 2          | `-`, `+`       | Operador Unário              |\n",
    "| 3          | `*`, `/`, `//`, `%` | Multiplicação, Divisão e Resto |\n",
    "| 4          | `-`, `+`       | Soma e Subtração             |\n",
    "\n",
    "Exemplo:"
   ]
  }
 ],
 "metadata": {
  "kernelspec": {
   "display_name": ".venv",
   "language": "python",
   "name": "python3"
  },
  "language_info": {
   "codemirror_mode": {
    "name": "ipython",
    "version": 3
   },
   "file_extension": ".py",
   "mimetype": "text/x-python",
   "name": "python",
   "nbconvert_exporter": "python",
   "pygments_lexer": "ipython3",
   "version": "3.13.2"
  }
 },
 "nbformat": 4,
 "nbformat_minor": 2
}
