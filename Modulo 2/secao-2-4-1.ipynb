{
 "cells": [
  {
   "cell_type": "markdown",
   "metadata": {},
   "source": [
    "# Variáveis \n",
    "Usa como base para quase tudo "
   ]
  },
  {
   "cell_type": "code",
   "execution_count": null,
   "metadata": {},
   "outputs": [],
   "source": [
    "idade=45\n",
    "idoso=45\n",
    "print(idade + idoso)"
   ]
  },
  {
   "cell_type": "markdown",
   "metadata": {},
   "source": [
    "### Regras para o nome de uma variável \n",
    "- Deve-se iniciar com letra ou _\n",
    "- Não pode conter caracter especial. \n",
    "- Pode-se usar letras, números ou _ \n",
    "- O python faz diferença entre maiúsculas e minúsculas.\n",
    "- Não pode ser uma palavra reservada do python "
   ]
  },
  {
   "cell_type": "code",
   "execution_count": null,
   "metadata": {},
   "outputs": [],
   "source": [
    "_if = 1\n",
    "If = 2 \n",
    "IF = 3\n",
    "print(_if + If ** IF) # exemplo meu "
   ]
  },
  {
   "cell_type": "markdown",
   "metadata": {},
   "source": [
    "### Laboratorio 2.4.7"
   ]
  },
  {
   "cell_type": "code",
   "execution_count": null,
   "metadata": {},
   "outputs": [],
   "source": [
    "john = 3\n",
    "mary = 5\n",
    "adam = 6\n",
    "print(john, mary, adam, sep=\",\")\n",
    "total_apples= john + mary + adam\n",
    "print(\"total_apples:\", total_apples)"
   ]
  },
  {
   "cell_type": "markdown",
   "metadata": {},
   "source": [
    "### Operador de atalho \n",
    "operador = operador operação valor => operador operação= valor \n",
    "resumindo \n",
    "idade = idade = 5 => idade += 5"
   ]
  },
  {
   "cell_type": "code",
   "execution_count": null,
   "metadata": {},
   "outputs": [],
   "source": [
    "variável = 2 \n",
    "variável = variável + 5\n",
    "# variável += 5\n",
    "print( variável)\n",
    "variável = variável * 5 + 2 \n",
    "variável*= 5 + 2 \n",
    "print( variável)"
   ]
  },
  {
   "cell_type": "markdown",
   "metadata": {},
   "source": [
    "### Laboratório 2.4.9 "
   ]
  },
  {
   "cell_type": "code",
   "execution_count": null,
   "metadata": {},
   "outputs": [],
   "source": [
    "kilometers = 12.25\n",
    "miles = 7.38\n",
    "on_mile_in_km = 1.61\n",
    "miles_to_kilometers = miles * 1.61\n",
    "kilometers_to_miles = kilometers / 1,61\n",
    "\n",
    "print(miles, \" milhas é\", round(miles_to_kilometers, 2), \"quilômetros\")\n",
    "print(kilometers, \"quilômetros é\", round(kilometers_to_miles, 2), \"milhas\")\n"
   ]
  },
  {
   "cell_type": "markdown",
   "metadata": {},
   "source": [
    "## Laboratório 2.4.10\n",
    "3x^3 - 2x^2 + 3x - 1\n",
    "\n",
    "x = 0\n",
    "x = 1\n",
    "x = -1\n",
    "#### Exemplo de saída\n",
    "y = -1.0\n",
    "y = 3.0\n",
    "y = -9.0"
   ]
  },
  {
   "cell_type": "code",
   "execution_count": null,
   "metadata": {},
   "outputs": [],
   "source": [
    "x = # Codifique seus dados de teste aqui.\n",
    "x = float(x)\n",
    "# Escreva seu código aqui.\n",
    "y = 3*x**3 - 2*x**2 + 3*x - 1\n",
    "print(\"y =\", y)\n"
   ]
  }
 ],
 "metadata": {
  "kernelspec": {
   "display_name": ".venv",
   "language": "python",
   "name": "python3"
  },
  "language_info": {
   "codemirror_mode": {
    "name": "ipython",
    "version": 3
   },
   "file_extension": ".py",
   "mimetype": "text/x-python",
   "name": "python",
   "nbconvert_exporter": "python",
   "pygments_lexer": "ipython3",
   "version": "3.13.2"
  }
 },
 "nbformat": 4,
 "nbformat_minor": 2
}
