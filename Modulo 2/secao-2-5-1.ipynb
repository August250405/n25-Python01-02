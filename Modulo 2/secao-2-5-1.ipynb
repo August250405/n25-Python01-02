{
 "cells": [
  {
   "cell_type": "markdown",
   "metadata": {},
   "source": [
    "# Comentários"
   ]
  },
  {
   "cell_type": "code",
   "execution_count": null,
   "metadata": {},
   "outputs": [],
   "source": [
    "# Para comentários de uma linha, use o caractere #\n",
    "# linha 2\n",
    "# linha 3\n",
    "print(\"Hello World\")"
   ]
  },
  {
   "cell_type": "code",
   "execution_count": null,
   "metadata": {},
   "outputs": [],
   "source": [
    "\"\"\"\n",
    "Para comentários de múltiplas linhas, use aspas tripas \n",
    "ou aspas simples triplas \n",
    "\"\"\" \n",
    "''' \n",
    " Dessa forma também funciona \n",
    "''' "
   ]
  },
  {
   "cell_type": "code",
   "execution_count": null,
   "metadata": {},
   "outputs": [],
   "source": [
    "# Comentários de uma linha\n",
    "# São usados para adicionar explicações curtas ou anotações no código.\n",
    "# Exemplo:\n",
    "# Este é um comentário de uma linha\n",
    "print(\"Este é um exemplo de comentário de uma linha\")"
   ]
  }
 ],
 "metadata": {
  "kernelspec": {
   "display_name": ".venv",
   "language": "python",
   "name": "python3"
  },
  "language_info": {
   "codemirror_mode": {
    "name": "ipython",
    "version": 3
   },
   "file_extension": ".py",
   "mimetype": "text/x-python",
   "name": "python",
   "nbconvert_exporter": "python",
   "pygments_lexer": "ipython3",
   "version": "3.13.2"
  }
 },
 "nbformat": 4,
 "nbformat_minor": 2
}
