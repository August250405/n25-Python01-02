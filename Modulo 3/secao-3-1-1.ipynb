{
 "cells": [
  {
   "cell_type": "markdown",
   "metadata": {},
   "source": [
    "# Tomada de decisão \n",
    "## Operação relacionais\n",
    "### Operador de igualdade ( == )"
   ]
  },
  {
   "cell_type": "code",
   "execution_count": null,
   "metadata": {},
   "outputs": [],
   "source": [
    "print( 1 == 2 )\n",
    "print( 1 == 1 )\n",
    "print( 1 == 1.0 )\n",
    "print( 2 == 0b10 )"
   ]
  },
  {
   "cell_type": "markdown",
   "metadata": {},
   "source": [
    "## Operador de desigualdade ( != )"
   ]
  },
  {
   "cell_type": "code",
   "execution_count": null,
   "metadata": {},
   "outputs": [],
   "source": [
    "print( 1 != 2)\n",
    "print( 1 != 1)\n",
    "print( 1 != 1.0)\n",
    "print( 2 != 0b10) # binary 2"
   ]
  },
  {
   "cell_type": "markdown",
   "metadata": {},
   "source": [
    "## Operador maior que ( > ) é maior igual a ( >= )"
   ]
  },
  {
   "cell_type": "code",
   "execution_count": null,
   "metadata": {},
   "outputs": [],
   "source": [
    "print( 1 > 2)\n",
    "print( 2 > 1)\n",
    "print( 2 >= 1)\n",
    "print( 2 >= 0b10) # binary 2"
   ]
  },
  {
   "cell_type": "markdown",
   "metadata": {},
   "source": [
    "## Operador menor que ( < ) e menor igual a ( <= )"
   ]
  },
  {
   "cell_type": "code",
   "execution_count": null,
   "metadata": {},
   "outputs": [],
   "source": [
    "print( 1 < 2)\n",
    "print( 2 < 1)\n",
    "print( 2 >= 1)\n",
    "print( 2 >= 0b10) # binary 2"
   ]
  },
  {
   "cell_type": "markdown",
   "metadata": {},
   "source": [
    "#### Atualizando a lista de prioridades de operadores \n",
    "| Seq | Operador | Descrição |\n",
    "| :-: | :-: | :-: | \n",
    "| 1 | ** | Exponenciação | \n",
    "| 2 | +, - | Unários Sinal |\n",
    "| 3 | *,/,//,% | Multiplicação, divisores e resto |\n",
    "| 4 | +,- | Soma e Subtração |\n",
    "| 5 | >, >=, <=| Maior, maior igual, menor, menor igual |\n",
    "| 6 | ==, != | Igualdade e diferença | "
   ]
  },
  {
   "cell_type": "markdown",
   "metadata": {},
   "source": [
    "### Operador if ( se )\n",
    "sintaxe:\n",
    "if condicao_verdadeira:\n",
    "     comando_a_ser_executado1()\n",
    "     comando_a_ser_executado2()\n",
    "      if comando2:\n",
    "     comando_03()"
   ]
  },
  {
   "cell_type": "code",
   "execution_count": null,
   "metadata": {},
   "outputs": [],
   "source": [
    "idade = int(input (\"Digite sua idade:\"))\n",
    "if idade >= 18:\n",
    "    print(\"Você é maior de idade\")\n",
    "    print(\"Você pode dirigir, se habilitado!\")\n",
    "print(\"fim do programa\")"
   ]
  },
  {
   "cell_type": "markdown",
   "metadata": {},
   "source": [
    "### Instrução else "
   ]
  },
  {
   "cell_type": "code",
   "execution_count": null,
   "metadata": {},
   "outputs": [],
   "source": [
    "idade = int(input (\"Digite sua idade:\"))\n",
    "if idade >= 18:\n",
    "     print(\"Você é maior de idade\")\n",
    "     print(\"Você pode dirigir, se habilitado!\")\n",
    "else:\n",
    "     print(\"Você é menor de idade\")\n",
    "     print(\"Você não pode dirigir\")\n",
    "print(\"fim do programa\")"
   ]
  },
  {
   "cell_type": "markdown",
   "metadata": {},
   "source": [
    "### If encadeado "
   ]
  },
  {
   "cell_type": "code",
   "execution_count": null,
   "metadata": {},
   "outputs": [],
   "source": [
    "idade = int(input (\"Digite sua idade:\"))\n",
    "if idade >= 18:\n",
    "     print(\"Você é maior de idade\")\n",
    "     print(\"Você pode dirigir, se habilitado!\")\n",
    "     if idade >= 70:\n",
    "          print(\"Você deve fazer exames médicos anuais\")\n",
    "     if idade >= 65:\n",
    "          print(\"Você deve fazer exames médicos a cada 2 anos\")\n",
    "          print(\"Você é menor de idade\")\n",
    "          print(\"Você não pode dirigir\")\n",
    "print(\"fim do programa\")"
   ]
  },
  {
   "cell_type": "markdown",
   "metadata": {},
   "source": [
    "### Instrução elif"
   ]
  },
  {
   "cell_type": "code",
   "execution_count": null,
   "metadata": {},
   "outputs": [],
   "source": [
    "idade = int(input(\"Digite sua idade\"))\n",
    "if idade >= 18:\n",
    "     print(\"Você é maior de idade\")\n",
    "     print(\"Você pode dirigir, se habilitado\")"
   ]
  },
  {
   "cell_type": "code",
   "execution_count": null,
   "metadata": {},
   "outputs": [],
   "source": [
    "idade = int(input(\"Digite sua idade\"))\n",
    "if idade >= 70:\n",
    "    print(\"Voc~e é maior de idade\")\n",
    "    print(\"Você pode dirigir, se abilitado\")\n",
    "    print(\"Você deve fazer exames anuais\")\n",
    "elif idade >= 65:\n",
    "    print(\"Você é maior de idade\")\n",
    "    print(\"Você pode dirigir, se habilitado!\")\n",
    "    print(\"Você deve fazer exames a cada 2 anos\")\n",
    "elif idade >= 18: \n",
    "    print(\"Você é maior de idade\")\n",
    "    print(\"Você pode dirigir, se habilitado\")\n",
    "else :\n",
    "    print(\"Você é menor de idade.\")"
   ]
  },
  {
   "cell_type": "code",
   "execution_count": null,
   "metadata": {},
   "outputs": [],
   "source": [
    "# Obtendo o maior número entre dois números \n",
    "num1 = int(input(\"Digite o primeiro numero\"))\n",
    "num2 = int(input(\"Digite o segundo numero\"))\n",
    "num3 = int(input(\"Digite o terceiro numero\"))\n",
    "maior = num1\n",
    "if num2 > maior:\n",
    "    maior = num2\n",
    "if num3 > maior:\n",
    "    maior = num3\n",
    "print(\"O maior número é:\", maior)"
   ]
  },
  {
   "cell_type": "code",
   "execution_count": null,
   "metadata": {},
   "outputs": [],
   "source": [
    "#Uso do if com strings \n",
    "nome = input (\"Digite seu nome: \")\n",
    "nome2 = input (\"Digite outro nome: \")\n",
    "if nome > nome2:\n",
    "     print(nome, \"é maior que\", nome2)\n",
    "else:\n",
    "     print(nome2, \"é maior que ou igual a\", nome)"
   ]
  },
  {
   "cell_type": "code",
   "execution_count": null,
   "metadata": {},
   "outputs": [],
   "source": [
    "#Lab 3.1.10\n",
    "nome = input(spathiphyllum)\n",
    "nome2 = input(pelargonium)\n",
    "if nome == nome2:\n",
    "    print(\"Yes - spathiphyllum is the best plant ever!\")\n",
    "elif nome != nome2:\n",
    "    print(\"No, I want a big spathiphyllum!\") "
   ]
  },
  {
   "cell_type": "code",
   "execution_count": null,
   "metadata": {},
   "outputs": [],
   "source": [
    "# lab 3.1.11\n",
    "# se a renda do cidadão não era superior a 85.528 talões, o imposto era igual a 18% da renda, menos 556 taller e 2 centavos (isso era o que eles chamavam de isenção de imposto)\n",
    "# se a receita fosse superior a esse valor, o imposto seria igual a 14.839 talões e 2 centavos, mais 32% do excedente em mais de 85.528 taller. \n",
    "income = float(input(\"Entre com os rendimentos anuais \"))\n",
    "if income < 85528:\n",
    "     tax = income * 0.18 - 556.02\n",
    "elif \n",
    "     tax = (income - 85528) * 0.32 + 14839.02  \n",
    "tax = round(tax, 0)\n",
    "print(\"A taxa é:\", tax, \"thalers\") \n",
    " "
   ]
  },
  {
   "cell_type": "code",
   "execution_count": 46,
   "metadata": {},
   "outputs": [
    {
     "name": "stdout",
     "output_type": "stream",
     "text": [
      "Não dentro do período do calendário gregoriano\n"
     ]
    }
   ],
   "source": [
    "# Lab 3.1.12\n",
    "\"\"\"\n",
    "Como você certamente sabe, devido a algumas razões astronômicas, os anos podem ser bissextos ou comuns. Os primeiros têm 366 dias, enquanto os segundos têm 365 dias.\n",
    "\n",
    "Desde a introdução do calendário gregoriano (em 1582), a regra a seguir é usada para determinar o tipo de ano:\n",
    "\n",
    "se o número do ano não é divisível por quatro, é um ano comum;\n",
    "caso contrário, se o número do ano não for divisível por 100, será um ano bissexto;\n",
    "caso contrário, se o número do ano não for divisível por 400, é um ano comum ;\n",
    "caso contrário, é um ano bissexto .\"\n",
    "\"\"\"\n",
    "year = int(input(\"Digite um ano: \"))\n",
    "\n",
    "if year != 2000 :\n",
    "    print(\"Não dentro do período do calendário gregoriano\")\n",
    "elif year == 2000:\n",
    "    print(\"Ano Bissexto\")\n",
    "    "
   ]
  },
  {
   "cell_type": "code",
   "execution_count": 50,
   "metadata": {},
   "outputs": [
    {
     "name": "stdout",
     "output_type": "stream",
     "text": [
      "Ano bissexto!\n"
     ]
    }
   ],
   "source": [
    "# Correção do professor\n",
    "year = int(input(\"Digite um ano: \"))\n",
    "\n",
    "if year < 1582:\n",
    "       print(\"Não pertence ao ano gregoriano\")\n",
    "else: \n",
    "    if year % 4 != 0:\n",
    "      print(\"Ano comum!\")\n",
    "    elif year % 100 != 0:\n",
    "      print(\"Ano bissexto!\")\n",
    "    elif year % 400 != 0:\n",
    "      print(\"Ano comum\")\n",
    "    else:\n",
    "       print(\"Ano bissexto!\")\n"
   ]
  },
  {
   "cell_type": "code",
   "execution_count": 51,
   "metadata": {},
   "outputs": [],
   "source": [
    "# Multipla atribuição...\n",
    "a, b, c = 1, 2, 3"
   ]
  },
  {
   "cell_type": "code",
   "execution_count": 58,
   "metadata": {},
   "outputs": [
    {
     "name": "stdout",
     "output_type": "stream",
     "text": [
      "Não aceito\n",
      "Obrigado\n"
     ]
    }
   ],
   "source": [
    "idade = int(input(\"digite sua idade:\"))\n",
    "\n",
    "if idade == 14:\n",
    "    print(\"Voce é velho\")\n",
    "elif idade >= 14:\n",
    "    print(\"Não aceito\")\n",
    "print(\"Obrigado\")"
   ]
  },
  {
   "cell_type": "code",
   "execution_count": null,
   "metadata": {},
   "outputs": [],
   "source": [
    "# Operadores relacionais\n",
    "print(1 == 2)  # Igualdade\n",
    "print(1 != 2)  # Desigualdade\n",
    "print(1 > 2)   # Maior que\n",
    "print(1 < 2)   # Menor que\n",
    "print(2 >= 1)  # Maior ou igual\n",
    "print(2 <= 1)  # Menor ou igual\n",
    "\n",
    "# Estruturas condicionais\n",
    "idade = int(input(\"Digite sua idade:\"))\n",
    "if idade >= 18:\n",
    "    print(\"Você é maior de idade\")\n",
    "    print(\"Você pode dirigir, se habilitado!\")\n",
    "else:\n",
    "    print(\"Você é menor de idade\")\n",
    "    print(\"Você não pode dirigir\")\n",
    "\n",
    "# If encadeado\n",
    "if idade >= 70:\n",
    "    print(\"Você deve fazer exames médicos anuais\")\n",
    "elif idade >= 65:\n",
    "    print(\"Você deve fazer exames médicos a cada 2 anos\")\n",
    "elif idade >= 18:\n",
    "    print(\"Você pode dirigir, se habilitado\")\n",
    "else:\n",
    "    print(\"Você é menor de idade\")\n",
    "\n",
    "# Comparação de strings\n",
    "nome = input(\"Digite seu nome: \")\n",
    "nome2 = input(\"Digite outro nome: \")\n",
    "if nome > nome2:\n",
    "    print(nome, \"é maior que\", nome2)\n",
    "else:\n",
    "    print(nome2, \"é maior que ou igual a\", nome)\n",
    "\n",
    "# Lab 3.1.10\n",
    "nome = input(\"Digite o nome da planta: \")\n",
    "if nome == \"spathiphyllum\":\n",
    "    print(\"Yes - spathiphyllum is the best plant ever!\")\n",
    "else:\n",
    "    print(\"No, I want a big spathiphyllum!\")\n",
    "\n",
    "# Lab 3.1.11 - Cálculo de imposto\n",
    "income = float(input(\"Entre com os rendimentos anuais: \"))\n",
    "if income < 85528:\n",
    "    tax = income * 0.18 - 556.02\n",
    "else:\n",
    "    tax = (income - 85528) * 0.32 + 14839.02\n",
    "tax = round(tax, 0)\n",
    "print(\"A taxa é:\", tax, \"thalers\")\n",
    "\n",
    "# Lab 3.1.12 - Verificação de ano bissexto\n",
    "year = int(input(\"Digite um ano: \"))\n",
    "if year < 1582:\n",
    "    print(\"Não pertence ao ano gregoriano\")\n",
    "elif year % 4 != 0:\n",
    "    print(\"Ano comum!\")\n",
    "elif year % 100 != 0:\n",
    "    print(\"Ano bissexto!\")\n",
    "elif year % 400 != 0:\n",
    "    print(\"Ano comum\")\n",
    "else:\n",
    "    print(\"Ano bissexto!\")\n",
    "\n",
    "# Múltipla atribuição\n",
    "a, b, c = 1, 2, 3\n",
    "\n",
    "# Condicional com idade\n",
    "idade = int(input(\"Digite sua idade: \"))\n",
    "if idade == 14:\n",
    "    print(\"Você é velho\")\n",
    "elif idade >= 14:\n",
    "    print(\"Não aceito\")\n",
    "print(\"Obrigado\")"
   ]
  }
 ],
 "metadata": {
  "kernelspec": {
   "display_name": ".venv",
   "language": "python",
   "name": "python3"
  },
  "language_info": {
   "codemirror_mode": {
    "name": "ipython",
    "version": 3
   },
   "file_extension": ".py",
   "mimetype": "text/x-python",
   "name": "python",
   "nbconvert_exporter": "python",
   "pygments_lexer": "ipython3",
   "version": "3.13.2"
  }
 },
 "nbformat": 4,
 "nbformat_minor": 2
}
