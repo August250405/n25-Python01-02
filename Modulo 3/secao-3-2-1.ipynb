{
 "cells": [
  {
   "cell_type": "markdown",
   "metadata": {},
   "source": [
    "## Laço while \n",
    "#### While = \"enquanto\""
   ]
  },
  {
   "cell_type": "code",
   "execution_count": null,
   "metadata": {},
   "outputs": [],
   "source": [
    "while True:\n",
    "    print(\"Teste... \") \n",
    "    break\n",
    "    "
   ]
  },
  {
   "cell_type": "code",
   "execution_count": null,
   "metadata": {},
   "outputs": [],
   "source": [
    "maior = 999_999_999_999\n",
    "valor = int(input(\"Digite um valor (-1 = fim): \"))\n",
    "while valor != -1:\n",
    "    if valor>maior:\n",
    "        maior = valor \n",
    "    valor = int(input(\"Digite um valor (-1 = fim): \"))\n",
    "if maior > 999_999_999_999 :\n",
    "   print(\"O maior valor digitado foi\",maior)\n",
    "else:\n",
    "    print(\"Não houve digitação de valores!\")\n",
    "\n"
   ]
  },
  {
   "cell_type": "code",
   "execution_count": null,
   "metadata": {},
   "outputs": [],
   "source": [
    "# Solicitar ao usuário de valor, se -1 encerrar \n",
    "# Contar quantos pares e quantos impares foram digitados \n",
    "par, impar = 0, 0\n",
    "num = int(input(\"Digite um número (-' = fim): \"))\n",
    "while num != -1:\n",
    "    if num % 2 == 0: # par \n",
    "        par += 1\n",
    "    else:\n",
    "        impar += 1\n",
    "    num = int(input(\"Digite um número (-1 = fim):\"))\n",
    "print(\"Pares:\",par,\"Impares:\",impar)"
   ]
  },
  {
   "cell_type": "code",
   "execution_count": null,
   "metadata": {},
   "outputs": [],
   "source": [
    "contador = 0 \n",
    "while contador < 10:\n",
    "    print(contador)\n",
    "    contador += 1 \n",
    "print (\"Fim do programa\")"
   ]
  },
  {
   "cell_type": "code",
   "execution_count": null,
   "metadata": {},
   "outputs": [],
   "source": [
    "for contador in range (10):\n",
    "    print(contador)\n",
    "    print(\"Fim do programa\")"
   ]
  },
  {
   "cell_type": "code",
   "execution_count": null,
   "metadata": {},
   "outputs": [],
   "source": [
    "for contador in range (10):\n",
    "    print(contador)\n",
    "print(\"Fim do programa\")"
   ]
  },
  {
   "cell_type": "markdown",
   "metadata": {},
   "source": [
    "### Range com 2 parâmetros (Inicio, fim)\n"
   ]
  },
  {
   "cell_type": "code",
   "execution_count": null,
   "metadata": {},
   "outputs": [],
   "source": [
    "for contador in range(1,50):\n",
    "    print(contador)\n",
    "print(\"Fim do programa \")"
   ]
  },
  {
   "cell_type": "markdown",
   "metadata": {},
   "source": [
    "### range com 3 parâmetros (inicio, fim, passo)"
   ]
  },
  {
   "cell_type": "code",
   "execution_count": null,
   "metadata": {},
   "outputs": [],
   "source": [
    "for contador in range (1, 10, 3):\n",
    "    print(contador)\n",
    "print(\"Fim do programa \")"
   ]
  },
  {
   "cell_type": "code",
   "execution_count": null,
   "metadata": {},
   "outputs": [],
   "source": [
    "# For interessante\n",
    "contador = 9\n",
    "for contador in range (1,1):\n",
    "    print(contador)\n",
    "print(\"Fim do programa\", contador)"
   ]
  },
  {
   "cell_type": "code",
   "execution_count": null,
   "metadata": {},
   "outputs": [],
   "source": [
    "# desafio \n",
    "for contador in range (10, 1, -1): # Impimir do 10 ao 1 \n",
    "    print(contador)\n",
    "print(\"Fim do programa\")"
   ]
  },
  {
   "cell_type": "code",
   "execution_count": null,
   "metadata": {},
   "outputs": [],
   "source": [
    "# Lab 3.2.7\n",
    "import time \n",
    "# Escreva um loop for que conte até cinco\n",
    "   # Corpo do loop - exiba o número de iteração do loop e a palavra \"Mississippi\".\n",
    "   # Corpo do loop - use: time.sleep(1)\n",
    "\n",
    "# Escreva uma função print com a mensagem final. \n",
    "for i in range (1,6):\n",
    "     print(i, \"Mississippi\")\n",
    "     time.sleep(1)\n",
    "print(\"Pronto ou não, aqui vou eu!!!\")"
   ]
  },
  {
   "cell_type": "markdown",
   "metadata": {},
   "source": [
    "### Instrução break e continue "
   ]
  },
  {
   "cell_type": "code",
   "execution_count": null,
   "metadata": {},
   "outputs": [],
   "source": [
    "contador = 0 \n",
    "while contador  < 10:\n",
    "    print(contador)\n",
    "    contador += 1 \n",
    "    if contador == 3:\n",
    "        break\n",
    "print(\"Fim do programa\")"
   ]
  },
  {
   "cell_type": "code",
   "execution_count": null,
   "metadata": {},
   "outputs": [],
   "source": [
    "contador = 0 \n",
    "while contador  < 10:\n",
    "    contador+= 1\n",
    "    if contador == 3:\n",
    "        continue  \n",
    "    print(contador)\n",
    "print(\"Fim do programa\")"
   ]
  },
  {
   "cell_type": "code",
   "execution_count": null,
   "metadata": {},
   "outputs": [],
   "source": [
    "## Exemplo interessante do for \n",
    "palavra = \"otorrinolaringologista\"\n",
    "for letra in palavra:\n",
    "    print (letra, end=\"-\")\n",
    "print(\"\\nFim do programa\")\n",
    "# invertendo a palavra \n",
    "pal_inv=\"\"\n",
    "for letra in palavra:\n",
    "    pal_inv = letra + pal_inv\n",
    "print(pal_inv)"
   ]
  },
  {
   "cell_type": "markdown",
   "metadata": {},
   "source": [
    "# Ramo else "
   ]
  },
  {
   "cell_type": "code",
   "execution_count": null,
   "metadata": {},
   "outputs": [],
   "source": [
    "i = 1\n",
    "\n",
    "for i in range (1,5):\n",
    "    if i ==3:  break\n",
    "    print(i)\n",
    "else: \n",
    "    print(\"else: \", i)"
   ]
  },
  {
   "attachments": {
    "image.png": {
     "image/png": "[encoded data removed]"
    }
   },
   "cell_type": "markdown",
   "metadata": {},
   "source": [
    "### Laboratório 3.2.14\n",
    " \n",
    "Ouça esta história: um garoto e seu pai, um programador de computador, estão jogando com blocos de madeira. Eles estão construindo uma pirâmide.\n",
    "\n",
    "A pirâmide deles é um pouco esquisita, pois na verdade é uma parede em forma de pirâmide - é plana. A pirâmide é empilhada de acordo com um princípio simples: cada camada inferior contém um bloco a mais do que a camada acima.\n",
    "\n",
    "\n",
    "A figura ilustra a regra usada pelos construtores:\n",
    "\n",
    "![image.png](attachment:image.png)"
   ]
  },
  {
   "cell_type": "code",
   "execution_count": null,
   "metadata": {},
   "outputs": [],
   "source": [
    "blocks = int(input(\"Insira o número de blocos:\")) \n",
    " # Escreva seu código aqui.\n",
    "altura = 0\n",
    "total_blocos = 0\n",
    "while total_blocos < blocks:\n",
    "    altura += 1\n",
    "    total_blocos += altura\n",
    "print(\"A altura da pirâmide:\", altura)\n",
    "\n"
   ]
  },
  {
   "cell_type": "code",
   "execution_count": null,
   "metadata": {},
   "outputs": [],
   "source": [
    "num = int(input(\"Digite o valor :\"))\n",
    "raiz = 0 \n",
    "for i in range ():\n",
    "    if function:\n",
    "        break; \n",
    "print(\"raiz aproximada é: \", raiz )"
   ]
  },
  {
   "cell_type": "code",
   "execution_count": null,
   "metadata": {},
   "outputs": [],
   "source": [
    "# Mesmo codigo feito pelo robo"
   ]
  },
  {
   "cell_type": "code",
   "execution_count": null,
   "metadata": {},
   "outputs": [],
   "source": [
    "num = int(input(\"Digite o valor: \"))\n",
    "raiz = 0\n",
    "\n",
    "for i in range(num + 1):  \n",
    "    if i * i > num:  \n",
    "        raiz = i - 1  \n",
    "        break\n",
    "\n",
    "print(\"A raiz aproximada é:\", raiz)"
   ]
  },
  {
   "cell_type": "code",
   "execution_count": 33,
   "metadata": {},
   "outputs": [
    {
     "name": "stdout",
     "output_type": "stream",
     "text": [
      "Cpf inválido! 47119334840 471193348400\n"
     ]
    }
   ],
   "source": [
    "# Teste cpf (cancelado kkkkkkkk)\n",
    "\n",
    "CPF = input(\"Digite o numero do seu CPF (somente o numero, 11 dígitos): \")\n",
    "cpf_sem_dg = \"\"\n",
    "soma=0\n",
    "for i in range (10):\n",
    "    soma += int(CPF[i]) * (10 - i)\n",
    "    cpf_sem_dg += CPF[i]\n",
    "# calculo 1 digito \n",
    "dg1 = 11 - soma % 11 \n",
    "if dg1 > 9: dg1 = 0\n",
    "soma = 0\n",
    "for i in range (10):\n",
    "    soma += int(CPF[i]) * (11 - i)\n",
    "# calculo 2 digito \n",
    "dg2 = 11 - soma % 11\n",
    "if dg2 > 9: dg2 = 0\n",
    "# Montando CPF calculado \n",
    "cpf_sem_dg += str(dg1) + str(dg2)\n",
    "if CPF != cpf_sem_dg:\n",
    "    print(\"Cpf inválido!\", CPF, cpf_sem_dg)\n",
    "else:\n",
    "    print(\"CPF válido\", CPF, cpf_sem_dg)"
   ]
  },
  {
   "cell_type": "code",
   "execution_count": 35,
   "metadata": {},
   "outputs": [
    {
     "name": "stdout",
     "output_type": "stream",
     "text": [
      "CPF válido! 47119334840 47119334840\n"
     ]
    }
   ],
   "source": [
    "# Teste CPF (corrigido)\n",
    "\n",
    "CPF = input(\"Digite o número do seu CPF (somente o número, 11 dígitos): \")\n",
    "cpf_sem_dg = \"\"\n",
    "soma = 0\n",
    "\n",
    "# Verifica se o CPF tem 11 dígitos\n",
    "if len(CPF) != 11 or not CPF.isdigit():\n",
    "    print(\"CPF inválido! Certifique-se de digitar 11 números.\")\n",
    "else:\n",
    "    # Calculando o primeiro dígito verificador\n",
    "    for i in range(9):  # Apenas os 9 primeiros dígitos\n",
    "        soma += int(CPF[i]) * (10 - i)\n",
    "        cpf_sem_dg += CPF[i]\n",
    "    dg1 = 11 - soma % 11\n",
    "    if dg1 > 9:\n",
    "        dg1 = 0\n",
    "\n",
    "    # Calculando o segundo dígito verificador\n",
    "    soma = 0\n",
    "    for i in range(9):  # Apenas os 9 primeiros dígitos\n",
    "        soma += int(CPF[i]) * (11 - i)\n",
    "    soma += dg1 * 2  # Inclui o primeiro dígito verificador no cálculo\n",
    "    dg2 = 11 - soma % 11\n",
    "    if dg2 > 9:\n",
    "        dg2 = 0\n",
    "\n",
    "    # Montando o CPF calculado\n",
    "    cpf_calculado = cpf_sem_dg + str(dg1) + str(dg2)\n",
    "\n",
    "    # Comparando o CPF inserido com o CPF calculado\n",
    "    if CPF != cpf_calculado:\n",
    "        print(\"CPF inválido!\", CPF, cpf_calculado)\n",
    "    else:\n",
    "        print(\"CPF válido!\", CPF, cpf_calculado)"
   ]
  },
  {
   "cell_type": "code",
   "execution_count": null,
   "metadata": {
    "vscode": {
     "languageId": "markdown"
    }
   },
   "outputs": [],
   "source": [
    "Aqui está um resumo dos códigos presentes no Jupyter Notebook:\n",
    "\n",
    "1. **Laço `while` básico**:\n",
    "    - Exemplo de uso do `while` com uma condição simples e um `break`.\n",
    "\n",
    "2. **Encontrar o maior valor digitado**:\n",
    "    - Um loop `while` que solicita valores ao usuário até que ele insira `-1`. Determina o maior valor digitado.\n",
    "\n",
    "3. **Contar números pares e ímpares**:\n",
    "    - Um loop `while` que solicita números ao usuário e conta quantos são pares e ímpares.\n",
    "\n",
    "4. **Contador com `while`**:\n",
    "    - Um loop `while` que conta de 0 a 9 e imprime os valores.\n",
    "\n",
    "5. **Contador com `for` (range)**:\n",
    "    - Uso do `for` para contar de 0 a 9.\n",
    "\n",
    "6. **Range com dois parâmetros**:\n",
    "    - Uso do `range` para contar de 1 a 49.\n",
    "\n",
    "7. **Range com três parâmetros**:\n",
    "    - Uso do `range` para contar de 1 a 10 com passo 3.\n",
    "\n",
    "8. **Loop invertido**:\n",
    "    - Um `for` que conta de 10 a 1.\n",
    "\n",
    "9. **Contagem com atraso (`time.sleep`)**:\n",
    "    - Um loop `for` que conta até 5 com atraso de 1 segundo entre as iterações.\n",
    "\n",
    "10. **Instruções `break` e `continue`**:\n",
    "     - Exemplos de uso do `break` e `continue` em loops.\n",
    "\n",
    "11. **Iteração sobre uma string**:\n",
    "     - Um `for` que itera sobre uma palavra, imprime as letras e inverte a palavra.\n",
    "\n",
    "12. **Uso do `else` em loops**:\n",
    "     - Demonstração do uso do `else` com um `for`.\n",
    "\n",
    "13. **Construção de uma pirâmide**:\n",
    "     - Um loop `while` que calcula a altura de uma pirâmide com base no número de blocos.\n",
    "\n",
    "14. **Raiz quadrada aproximada**:\n",
    "     - Um `for` que calcula a raiz quadrada inteira aproximada de um número.\n",
    "\n",
    "15. **Validação de CPF**:\n",
    "     - Dois códigos que validam um CPF, um corrigido e outro com erros. Calculam os dígitos verificadores e comparam com o CPF fornecido.\n",
    "\n",
    "Esses códigos abrangem conceitos básicos de loops, condições, manipulação de strings, validação de dados e cálculos matemáticos."
   ]
  }
 ],
 "metadata": {
  "kernelspec": {
   "display_name": ".venv",
   "language": "python",
   "name": "python3"
  },
  "language_info": {
   "codemirror_mode": {
    "name": "ipython",
    "version": 3
   },
   "file_extension": ".py",
   "mimetype": "text/x-python",
   "name": "python",
   "nbconvert_exporter": "python",
   "pygments_lexer": "ipython3",
   "version": "3.13.2"
  }
 },
 "nbformat": 4,
 "nbformat_minor": 2
}
