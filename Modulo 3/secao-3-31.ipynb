{
 "cells": [
  {
   "cell_type": "markdown",
   "metadata": {},
   "source": [
    "# 3.3 Lógica e Operadores bit-a-bit \n",
    "### Operadores Lógicas and, or e not \n",
    "\n",
    "| A | B | A and B | A or | not A | \n",
    "| - | :-: |:-:|:-:|:-:|\n",
    "| True | True | True | True | False |\n",
    "| True | False | False | True | False | \n",
    "| False | True | False | True | True |\n",
    "|False | False | False | False | True |"
   ]
  },
  {
   "cell_type": "code",
   "execution_count": 9,
   "metadata": {},
   "outputs": [
    {
     "name": "stdout",
     "output_type": "stream",
     "text": [
      "pode dirigir sem restrições, desde com carta .\n",
      "idade inválida \n",
      "Idade inválida!\n",
      "idade inválida \n",
      "Idade inválida!\n",
      "idade inválida \n",
      "Idade inválida!\n",
      "idade inválida \n",
      "Idade inválida!\n"
     ]
    }
   ],
   "source": [
    "idade = 19\n",
    "if idade >= 18 and idade<=60:\n",
    "    print(\"pode dirigir sem restrições, desde com carta .\")\n",
    "idade = 10\n",
    "while idade <18 or idade >60: \n",
    "    idade = int(input(\"Digite uma idade entre 18 e 60: \"))\n",
    "    if idade <18 or idade>60: print (\"idade inválida \")\n",
    "    if not (idade>=18 and idade<=60): print(\"Idade inválida!\")\n",
    "    \n"
   ]
  },
  {
   "cell_type": "code",
   "execution_count": 10,
   "metadata": {},
   "outputs": [
    {
     "name": "stdout",
     "output_type": "stream",
     "text": [
      "Idade Inválida\n"
     ]
    }
   ],
   "source": [
    "idade = int(input(\"Digite uma idade maior que zero: \"))\n",
    "if not idade:\n",
    "    print (\"Idade Inválida\")"
   ]
  },
  {
   "cell_type": "markdown",
   "metadata": {},
   "source": [
    "### Operadores bit-a-bit \n",
    "#### Operador de conjunção ( & ) ou and bit-a-bit \n",
    "\n",
    "2 & 3 =2\n",
    "2 10 & \n",
    "3 11\n",
    "----\n",
    "2 10"
   ]
  },
  {
   "cell_type": "code",
   "execution_count": 11,
   "metadata": {},
   "outputs": [
    {
     "name": "stdout",
     "output_type": "stream",
     "text": [
      "5 0101\n",
      "7 0111\n",
      "-------\n",
      "5 0101\n"
     ]
    }
   ],
   "source": [
    "a = 5\n",
    "b = 7\n",
    "print(a,f\"{a:04b}\")\n",
    "print(b,f\"{b:04b}\")\n",
    "print(\"-\" *7)\n",
    "print(a&b,f\"{(a&b):04b}\")"
   ]
  },
  {
   "cell_type": "markdown",
   "metadata": {},
   "source": [
    "#### Operador de disjunção ( | ) ou or bit-a-bit\n",
    "5 0101\n",
    "7 0111\n",
    "---------\n",
    "7 0111\n"
   ]
  },
  {
   "cell_type": "code",
   "execution_count": 12,
   "metadata": {},
   "outputs": [
    {
     "name": "stdout",
     "output_type": "stream",
     "text": [
      "5 0101\n",
      "7 0111\n",
      "-------\n",
      "7 0101\n"
     ]
    }
   ],
   "source": [
    "a = 5\n",
    "b = 7\n",
    "print(a,f\"{a:04b}\")\n",
    "print(b,f\"{b:04b}\")\n",
    "print(\"-\" *7)\n",
    "print(a|b,f\"{(a&b):04b}\")"
   ]
  },
  {
   "cell_type": "markdown",
   "metadata": {},
   "source": [
    "#### Operador xor ( ^ ) ou or exclusivo bit-a-bit"
   ]
  },
  {
   "cell_type": "code",
   "execution_count": null,
   "metadata": {},
   "outputs": [],
   "source": [
    "a = 5\n",
    "b = 7\n",
    "print(a,f\"{a:04b}\")\n",
    "print(b,f\"{b:04b}\")\n",
    "print(\"-\" *7)\n",
    "print(a^b,f\"{(a^b):04b}\")"
   ]
  },
  {
   "cell_type": "markdown",
   "metadata": {},
   "source": [
    "#### Complemento ( ~ )\n",
    "~5 = -6"
   ]
  },
  {
   "cell_type": "code",
   "execution_count": null,
   "metadata": {},
   "outputs": [
    {
     "name": "stdout",
     "output_type": "stream",
     "text": [
      "-6\n"
     ]
    },
    {
     "data": {
      "text/plain": [
       "'0b110'"
      ]
     },
     "execution_count": 17,
     "metadata": {},
     "output_type": "execute_result"
    }
   ],
   "source": [
    "print(~5)\n"
   ]
  },
  {
   "cell_type": "markdown",
   "metadata": {},
   "source": [
    "# Deslocamento de bit para esquerda ( << )\n",
    "1 << 2 resulta em 4 100"
   ]
  },
  {
   "cell_type": "code",
   "execution_count": 18,
   "metadata": {},
   "outputs": [
    {
     "name": "stdout",
     "output_type": "stream",
     "text": [
      "4 0100\n"
     ]
    }
   ],
   "source": [
    "print(1 << 2, f\"{(1<<2):04b}\")"
   ]
  },
  {
   "cell_type": "markdown",
   "metadata": {},
   "source": [
    "### Atualizando a tabela de precedencia de operadores \n",
    "| seq | operador | descrição |\n",
    "|:-:|:-:| - |\n",
    "| 1 | ** | exponenciação |\n",
    "| 2 | -,+,~ | multiplicação, divisões e resto |\n",
    "| 4 | +,- | soma e subtração |\n",
    "| 5 | <<, >> | deslocamento de bits |\n",
    "| 6 | & | Conjunção |\n",
    "| 8 | <,<=,>,>=,!=,== |"
   ]
  }
 ],
 "metadata": {
  "kernelspec": {
   "display_name": ".venv",
   "language": "python",
   "name": "python3"
  },
  "language_info": {
   "codemirror_mode": {
    "name": "ipython",
    "version": 3
   },
   "file_extension": ".py",
   "mimetype": "text/x-python",
   "name": "python",
   "nbconvert_exporter": "python",
   "pygments_lexer": "ipython3",
   "version": "3.13.2"
  }
 },
 "nbformat": 4,
 "nbformat_minor": 2
}
